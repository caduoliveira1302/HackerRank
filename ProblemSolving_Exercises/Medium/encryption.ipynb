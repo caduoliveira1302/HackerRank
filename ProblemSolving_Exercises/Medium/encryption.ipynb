{
 "cells": [
  {
   "cell_type": "code",
   "execution_count": 9,
   "metadata": {},
   "outputs": [],
   "source": [
    "import math"
   ]
  },
  {
   "cell_type": "code",
   "execution_count": 58,
   "metadata": {},
   "outputs": [],
   "source": [
    "def encryption(s: str):\n",
    "    s = s.replace(\" \", \"\")\n",
    "    \n",
    "    sqrt = len(s) ** 0.5 \n",
    "\n",
    "    rows = math.floor(sqrt)\n",
    "    columns = math.ceil(sqrt)\n",
    "\n",
    "    for i in range(0, len(s), columns):\n",
    "        print(s[i:i+columns])"
   ]
  },
  {
   "cell_type": "code",
   "execution_count": 59,
   "metadata": {},
   "outputs": [
    {
     "name": "stdout",
     "output_type": "stream",
     "text": [
      "ifmanwas\n",
      "meanttos\n",
      "tayonthe\n",
      "groundgo\n",
      "dwouldha\n",
      "vegivenu\n",
      "sroots\n"
     ]
    }
   ],
   "source": [
    "encryption('if man was meant to stay on the ground god would have given us roots')"
   ]
  },
  {
   "cell_type": "code",
   "execution_count": 47,
   "metadata": {},
   "outputs": [
    {
     "name": "stdout",
     "output_type": "stream",
     "text": [
      "have\n",
      "anic\n",
      "eday\n"
     ]
    }
   ],
   "source": [
    "encryption('have a nice day')"
   ]
  },
  {
   "cell_type": "code",
   "execution_count": 48,
   "metadata": {},
   "outputs": [
    {
     "name": "stdout",
     "output_type": "stream",
     "text": [
      "feed\n",
      "thed\n",
      "og\n"
     ]
    }
   ],
   "source": [
    "encryption('feed the dog')"
   ]
  },
  {
   "cell_type": "code",
   "execution_count": 51,
   "metadata": {},
   "outputs": [
    {
     "name": "stdout",
     "output_type": "stream",
     "text": [
      "chi\n",
      "llo\n",
      "ut\n"
     ]
    }
   ],
   "source": [
    "encryption('chill out')"
   ]
  },
  {
   "cell_type": "code",
   "execution_count": null,
   "metadata": {},
   "outputs": [],
   "source": []
  }
 ],
 "metadata": {
  "kernelspec": {
   "display_name": "Python 3",
   "language": "python",
   "name": "python3"
  },
  "language_info": {
   "codemirror_mode": {
    "name": "ipython",
    "version": 3
   },
   "file_extension": ".py",
   "mimetype": "text/x-python",
   "name": "python",
   "nbconvert_exporter": "python",
   "pygments_lexer": "ipython3",
   "version": "3.12.4"
  }
 },
 "nbformat": 4,
 "nbformat_minor": 2
}
