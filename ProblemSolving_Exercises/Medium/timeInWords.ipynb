{
 "cells": [
  {
   "cell_type": "code",
   "execution_count": 1,
   "metadata": {},
   "outputs": [],
   "source": [
    "# minuto = 0 --------------> o' clock\n",
    "# 1 <= minuto <= 30 -------> past \n",
    "# minuto > 30 -------------> to "
   ]
  },
  {
   "cell_type": "code",
   "execution_count": null,
   "metadata": {},
   "outputs": [],
   "source": [
    "h = 5\n",
    "m = 20\n",
    "\n",
    "\n",
    "num_dict = {}\n",
    "\n",
    "if m == 00:\n",
    "    print(f\"{h} o' clock\")\n",
    "elif 1 <= m <= 30:\n",
    "    if m == 15:\n",
    "        print(f\"quarter past {h}\")\n",
    "    elif m == 30:\n",
    "        print(f\"half past {h}\")\n",
    "    else:\n",
    "        print(f\"{m} past {h}\")\n",
    "elif m > 30:\n",
    "    next_hour = h + 1\n",
    "    diff = 60 - m\n",
    "    if diff == 15:\n",
    "        print(f\"quarter to {next_hour}\")\n",
    "    else:\n",
    "        print(f\"{diff} to {next_hour}\")"
   ]
  }
 ],
 "metadata": {
  "kernelspec": {
   "display_name": "Python 3",
   "language": "python",
   "name": "python3"
  },
  "language_info": {
   "codemirror_mode": {
    "name": "ipython",
    "version": 3
   },
   "file_extension": ".py",
   "mimetype": "text/x-python",
   "name": "python",
   "nbconvert_exporter": "python",
   "pygments_lexer": "ipython3",
   "version": "3.12.4"
  }
 },
 "nbformat": 4,
 "nbformat_minor": 2
}
