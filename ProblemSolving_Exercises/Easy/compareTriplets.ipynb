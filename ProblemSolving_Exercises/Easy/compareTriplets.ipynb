{
 "cells": [
  {
   "cell_type": "markdown",
   "metadata": {},
   "source": [
    "Alice and Bob each created one problem for HackerRank. A reviewer rates the two challenges, awarding points on a scale from 1 to 100 for three categories: problem clarity, originality, and difficulty.\n",
    "\n",
    "The rating for Alice's challenge is the triplet \n",
    "a = (a[0], a[1], a[2]), \n",
    "and the rating for Bob's challenge is the triplet \n",
    "b = (b[0], b[1], b[2]).\n",
    "\n",
    "The task is to find their comparison points by comparing a[0] with b[0], a[1] with b[1], and a[2] with b[2].\n",
    "\n",
    "- If a[i] > b[i], then Alice is awarded 1 point.\n",
    "- If a[i] < b[i], then Bob is awarded 1 point.\n",
    "- If a[i] = b[i], then neither person receives a point.\n",
    "\n",
    "Comparison points is the total points a person earned.\n",
    "\n",
    "Given a and b, determine their respective comparison points.\n",
    "\n",
    "*Example*\n",
    "\n",
    "a = [1, 2, 3]\n",
    "\n",
    "b = [3, 2, 1]\n",
    "\n",
    "For elements *0*, Bob is awarded a point because a[0].\n",
    "\n",
    "For the equal elements a[1] and b[1], no points are earned.\n",
    "\n",
    "Finally, for elements 2, a[2] > b[2] so Alice receives a point.\n",
    "\n",
    "The return array is [1, 1] with Alice's score first and Bob's second."
   ]
  },
  {
   "cell_type": "code",
   "execution_count": 13,
   "metadata": {},
   "outputs": [],
   "source": [
    "def compareTriplets(a, b):\n",
    "    alice = 0\n",
    "    bob = 0\n",
    "\n",
    "    for value1, value2 in zip(a, b):\n",
    "        if value1 > value2:\n",
    "            alice += 1\n",
    "        elif value1 < value2:\n",
    "            bob += 1\n",
    "        elif value1 == value2:\n",
    "            alice += 0\n",
    "            bob += 0\n",
    "\n",
    "    return [alice, bob]"
   ]
  },
  {
   "cell_type": "code",
   "execution_count": 14,
   "metadata": {},
   "outputs": [
    {
     "data": {
      "text/plain": [
       "[2, 1]"
      ]
     },
     "execution_count": 14,
     "metadata": {},
     "output_type": "execute_result"
    }
   ],
   "source": [
    "compareTriplets([3,6,9], [9,1,2])"
   ]
  }
 ],
 "metadata": {
  "kernelspec": {
   "display_name": "Python 3",
   "language": "python",
   "name": "python3"
  },
  "language_info": {
   "codemirror_mode": {
    "name": "ipython",
    "version": 3
   },
   "file_extension": ".py",
   "mimetype": "text/x-python",
   "name": "python",
   "nbconvert_exporter": "python",
   "pygments_lexer": "ipython3",
   "version": "3.12.4"
  }
 },
 "nbformat": 4,
 "nbformat_minor": 2
}
